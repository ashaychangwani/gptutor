{
 "cells": [
  {
   "cell_type": "code",
   "execution_count": null,
   "metadata": {},
   "outputs": [],
   "source": [
    "import pandas as pd\n",
    "from base64 import b64encode\n",
    "\n",
    "data = open (\"nyush.txt\", \"r\").read()\n",
    "data = data.split(\"\\n\\n\")\n",
    "print({idx: line for idx, line in enumerate(data)})"
   ]
  }
 ],
 "metadata": {
  "kernelspec": {
   "display_name": "Python 3",
   "language": "python",
   "name": "python3"
  },
  "language_info": {
   "codemirror_mode": {
    "name": "ipython",
    "version": 3
   },
   "file_extension": ".py",
   "mimetype": "text/x-python",
   "name": "python",
   "nbconvert_exporter": "python",
   "pygments_lexer": "ipython3",
   "version": "3.10.7"
  },
  "orig_nbformat": 4,
  "vscode": {
   "interpreter": {
    "hash": "e49fb333187636713f8f1e15b9093b9b95363117e0a453d86722732007929fff"
   }
  }
 },
 "nbformat": 4,
 "nbformat_minor": 2
}
