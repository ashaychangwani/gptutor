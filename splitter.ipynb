{
 "cells": [
  {
   "cell_type": "code",
   "execution_count": 13,
   "metadata": {},
   "outputs": [],
   "source": [
    "from pydub import AudioSegment\n",
    "import math\n",
    "import os\n",
    "class SplitWavAudioMubin():\n",
    "    def __init__(self, folder, filename):\n",
    "        if not os.path.exists(folder+\"/\"+filename[:-4]):\n",
    "            os.makedirs(folder+\"/\"+filename[:-4])\n",
    "        self.folder = folder\n",
    "        self.filename = filename\n",
    "        self.filepath = filename\n",
    "        \n",
    "        self.audio = AudioSegment.from_wav(self.folder+\"/\"+self.filepath)\n",
    "    \n",
    "    def get_duration(self):\n",
    "        return self.audio.duration_seconds\n",
    "    \n",
    "    def single_split(self, from_min, to_min, split_filename):\n",
    "        t1 = from_min * 60 * 1000\n",
    "        t2 = to_min * 60 * 1000\n",
    "        split_audio = self.audio[t1:t2]\n",
    "        split_audio.export(split_filename, format=\"wav\")\n",
    "        \n",
    "    def multiple_split(self, min_per_split):\n",
    "        total_mins = math.ceil(self.get_duration() / 60)\n",
    "        for i in range(0, total_mins, min_per_split):\n",
    "            split_fn = str(i) + '_' + self.filename\n",
    "            self.single_split(i, i+min_per_split, self.folder+\"/\"+self.filename[:-4]+\"/\"+split_fn)\n",
    "            print(str(i) + ' Done')\n",
    "            if i == total_mins - min_per_split:\n",
    "                print('All splited successfully')"
   ]
  },
  {
   "cell_type": "code",
   "execution_count": 3,
   "metadata": {},
   "outputs": [
    {
     "name": "stdout",
     "output_type": "stream",
     "text": [
      "GMT20221212-215516_Recording.wav\n",
      "GMT20221205-215515_Recording.wav\n",
      "20_..wav\n",
      "GMT20221031-205530_Recording.wav\n",
      "GMT20221130-215519_Recording.wav\n",
      "GMT20221121-215541_Recording.wav\n",
      "GMT20220919-205524_Recording.wav\n",
      "GMT20220921-205608_Recording.wav\n",
      "GMT20220914-205854_Recording.wav\n",
      "40_..wav\n",
      "GMT20221207-215507_Recording.wav\n",
      "GMT20221116-215528_Recording.wav\n",
      "GMT20221024-205521_Recording.wav\n",
      "0_..wav\n",
      "GMT20221005-205516_Recording.wav\n",
      "..wav\n",
      "GMT20221109-215524_Recording.wav\n",
      "GMT20221003-205507_Recording.wav\n",
      "60_..wav\n",
      "GMT20221102-205512_Recording.wav\n",
      "30_..wav\n",
      "GMT20221128-215516_Recording.wav\n",
      "GMT20220928-205510_Recording.wav\n",
      "GMT20220907-205510_Recording.wav\n",
      "GMT20220912-205531_Recording.wav\n",
      "10_..wav\n",
      "GMT20221017-205509_Recording.wav\n",
      "GMT20221012-205509_Recording.wav\n",
      "GMT20220926-205507_Recording.wav\n",
      "GMT20221114-215548_Recording.wav\n",
      "50_..wav\n",
      "70_..wav\n",
      "GMT20221107-215522_Recording.wav\n",
      "GMT20221011-205532_Recording.wav\n",
      "GMT20221026-205536_Recording.wav\n"
     ]
    }
   ],
   "source": [
    "from pydub import AudioSegment\n",
    "\n",
    "import os\n",
    "directory = 'Lecture Recordings'\n",
    "\n",
    "for filename in os.listdir(directory):\n",
    "    if filename.endswith(\".wav\"):\n",
    "        # audio = SplitWavAudioMubin(directory, filename)\n",
    "        # audio.multiple_split(10)\n",
    "        sound = AudioSegment.from_file(directory+\"/\"+filename)\n",
    "        sound = sound.set_frame_rate(16000)\n",
    "        sound.export('Lecture Recordings 2/'+filename)\n",
    "        print(filename)"
   ]
  }
 ],
 "metadata": {
  "kernelspec": {
   "display_name": "Python 3",
   "language": "python",
   "name": "python3"
  },
  "language_info": {
   "codemirror_mode": {
    "name": "ipython",
    "version": 3
   },
   "file_extension": ".py",
   "mimetype": "text/x-python",
   "name": "python",
   "nbconvert_exporter": "python",
   "pygments_lexer": "ipython3",
   "version": "3.10.7"
  },
  "orig_nbformat": 4,
  "vscode": {
   "interpreter": {
    "hash": "e49fb333187636713f8f1e15b9093b9b95363117e0a453d86722732007929fff"
   }
  }
 },
 "nbformat": 4,
 "nbformat_minor": 2
}
